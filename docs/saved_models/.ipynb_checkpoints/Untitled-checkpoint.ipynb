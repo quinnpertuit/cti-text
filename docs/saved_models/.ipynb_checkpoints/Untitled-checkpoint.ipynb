{
 "cells": [
  {
   "cell_type": "code",
   "execution_count": 7,
   "metadata": {},
   "outputs": [
    {
     "data": {
      "text/plain": [
       "{'dtype': dtype('float32'),\n",
       " 'id2word': <gensim.corpora.dictionary.Dictionary at 0x7f27cc2e8c50>,\n",
       " 'num_terms': 4481,\n",
       " 'distributed': False,\n",
       " 'num_topics': 3,\n",
       " 'chunksize': 2000,\n",
       " 'decay': 0.5,\n",
       " 'offset': 1.0,\n",
       " 'minimum_probability': 0.01,\n",
       " 'num_updates': 98,\n",
       " 'passes': 20,\n",
       " 'update_every': 1,\n",
       " 'eval_every': 10,\n",
       " 'minimum_phi_value': 0.01,\n",
       " 'per_word_topics': False,\n",
       " 'callbacks': None,\n",
       " 'alpha': array([0.33333334, 0.33333334, 0.33333334], dtype=float32),\n",
       " 'optimize_alpha': False,\n",
       " 'eta': array([0.33333334, 0.33333334, 0.33333334, ..., 0.33333334, 0.33333334,\n",
       "        0.33333334], dtype=float32),\n",
       " 'optimize_eta': False,\n",
       " 'random_state': RandomState(MT19937) at 0x7F27CC2E7258,\n",
       " 'iterations': 50,\n",
       " 'gamma_threshold': 0.001,\n",
       " 'dispatcher': None,\n",
       " 'numworkers': 1,\n",
       " 'state': <gensim.models.ldamodel.LdaState at 0x7f27cbe516a0>,\n",
       " 'expElogbeta': array([[2.3886170e-03, 1.9252427e-04, 4.5562992e-06, ..., 9.0937778e-05,\n",
       "         5.0310901e-04, 3.9941235e-04],\n",
       "        [9.9582248e-04, 1.4340329e-04, 3.3759975e-06, ..., 3.3832719e-06,\n",
       "         3.4039394e-06, 3.3976994e-06],\n",
       "        [3.0145028e-03, 8.6449974e-05, 8.6351261e-05, ..., 2.0366190e-06,\n",
       "         2.0467478e-06, 2.0425730e-06]], dtype=float32)}"
      ]
     },
     "execution_count": 7,
     "metadata": {},
     "output_type": "execute_result"
    }
   ],
   "source": [
    "import pickle\n",
    "import pandas as pd\n",
    "a = pickle.load(open('LDA_BERT_2020_09_30_16_20_23-ldamodel.pickle','rb'))\n",
    "a.__dict__"
   ]
  },
  {
   "cell_type": "code",
   "execution_count": 3,
   "metadata": {},
   "outputs": [
    {
     "data": {
      "text/plain": [
       "<gensim.corpora.dictionary.Dictionary at 0x7f283da49748>"
      ]
     },
     "execution_count": 3,
     "metadata": {},
     "output_type": "execute_result"
    }
   ],
   "source": [
    "a"
   ]
  },
  {
   "cell_type": "code",
   "execution_count": null,
   "metadata": {},
   "outputs": [],
   "source": []
  }
 ],
 "metadata": {
  "kernelspec": {
   "display_name": "Python 3",
   "language": "python",
   "name": "python3"
  },
  "language_info": {
   "codemirror_mode": {
    "name": "ipython",
    "version": 3
   },
   "file_extension": ".py",
   "mimetype": "text/x-python",
   "name": "python",
   "nbconvert_exporter": "python",
   "pygments_lexer": "ipython3",
   "version": "3.6.6"
  }
 },
 "nbformat": 4,
 "nbformat_minor": 4
}
